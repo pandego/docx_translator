{
 "cells": [
  {
   "cell_type": "code",
   "execution_count": 1,
   "metadata": {},
   "outputs": [],
   "source": [
    "from tqdm import tqdm\n",
    "from rich import print as rprint\n",
    "\n",
    "from docx import Document\n",
    "from deep_translator import GoogleTranslator"
   ]
  },
  {
   "cell_type": "code",
   "execution_count": 2,
   "metadata": {},
   "outputs": [],
   "source": [
    "# Load the document\n",
    "doc_path = \"data/document_in_french.docx\"\n",
    "doc = Document(doc_path)"
   ]
  },
  {
   "cell_type": "code",
   "execution_count": 3,
   "metadata": {},
   "outputs": [],
   "source": [
    "# Initialize the translator\n",
    "translator = GoogleTranslator(source='fr', target='en')"
   ]
  },
  {
   "cell_type": "code",
   "execution_count": 4,
   "metadata": {},
   "outputs": [
    {
     "name": "stderr",
     "output_type": "stream",
     "text": [
      "100%|██████████| 372/372 [00:22<00:00, 16.80it/s] \n"
     ]
    }
   ],
   "source": [
    "# Translate paragraphs while keeping the formatting\n",
    "for paragraph in tqdm(doc.paragraphs):\n",
    "    if paragraph.text.strip():  # If the paragraph has text\n",
    "        translation = translator.translate(paragraph.text)\n",
    "        paragraph.text = translation"
   ]
  },
  {
   "cell_type": "code",
   "execution_count": 5,
   "metadata": {},
   "outputs": [],
   "source": [
    "# Save the translated document\n",
    "translated_doc_path = f\"{doc_path.split('.')[0]}_translated.docx\"\n",
    "doc.save(translated_doc_path)"
   ]
  },
  {
   "cell_type": "code",
   "execution_count": 6,
   "metadata": {},
   "outputs": [
    {
     "data": {
      "text/html": [
       "<pre style=\"white-space:pre;overflow-x:auto;line-height:normal;font-family:Menlo,'DejaVu Sans Mono',consolas,'Courier New',monospace\">Translated document saved at <span style=\"color: #008000; text-decoration-color: #008000\">'data/document_in_french_translated.docx'</span>\n",
       "</pre>\n"
      ],
      "text/plain": [
       "Translated document saved at \u001b[32m'data/document_in_french_translated.docx'\u001b[0m\n"
      ]
     },
     "metadata": {},
     "output_type": "display_data"
    }
   ],
   "source": [
    "rprint(f\"Translated document saved at '{translated_doc_path}'\")"
   ]
  }
 ],
 "metadata": {
  "kernelspec": {
   "display_name": "translate",
   "language": "python",
   "name": "python3"
  },
  "language_info": {
   "codemirror_mode": {
    "name": "ipython",
    "version": 3
   },
   "file_extension": ".py",
   "mimetype": "text/x-python",
   "name": "python",
   "nbconvert_exporter": "python",
   "pygments_lexer": "ipython3",
   "version": "3.11.9"
  }
 },
 "nbformat": 4,
 "nbformat_minor": 2
}
